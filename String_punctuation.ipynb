{
 "metadata": {
  "name": "",
  "signature": "sha256:a010d3e533b305ef259d2fd552c55f55e52ce9ce23db8944da933f326ca9603d"
 },
 "nbformat": 3,
 "nbformat_minor": 0,
 "worksheets": [
  {
   "cells": [
    {
     "cell_type": "code",
     "collapsed": false,
     "input": [
      "import string\n",
      "import re"
     ],
     "language": "python",
     "metadata": {},
     "outputs": [],
     "prompt_number": 10
    },
    {
     "cell_type": "code",
     "collapsed": false,
     "input": [
      "review_string=\"I'd give Ardor a TWO THUMBS UP!\\nLove the food.. esp the Indian and total value for money!\\nThe drinks are well made and the food is to die for. \\nI've been there about 5 times - mix of at night and for lunch.\\nDuring the night, its like the new watering hole for the young crowd, Love the energy it has. \\nThe ambiance is great.\\nFor those of you who have not been there yet, what are you waiting for?!\\n\\nI'll totally recommend this place to anyone!'give'\"\n",
      "review_string"
     ],
     "language": "python",
     "metadata": {},
     "outputs": [
      {
       "metadata": {},
       "output_type": "pyout",
       "prompt_number": 11,
       "text": [
        "\"I'd give Ardor a TWO THUMBS UP!\\nLove the food.. esp the Indian and total value for money!\\nThe drinks are well made and the food is to die for. \\nI've been there about 5 times - mix of at night and for lunch.\\nDuring the night, its like the new watering hole for the young crowd, Love the energy it has. \\nThe ambiance is great.\\nFor those of you who have not been there yet, what are you waiting for?!\\n\\nI'll totally recommend this place to anyone!'give'\""
       ]
      }
     ],
     "prompt_number": 11
    },
    {
     "cell_type": "code",
     "collapsed": false,
     "input": [
      "#String Translate Output\n",
      "review_string.translate(None, string.punctuation)"
     ],
     "language": "python",
     "metadata": {},
     "outputs": [
      {
       "metadata": {},
       "output_type": "pyout",
       "prompt_number": 12,
       "text": [
        "'Id give Ardor a TWO THUMBS UP\\nLove the food esp the Indian and total value for money\\nThe drinks are well made and the food is to die for \\nIve been there about 5 times  mix of at night and for lunch\\nDuring the night its like the new watering hole for the young crowd Love the energy it has \\nThe ambiance is great\\nFor those of you who have not been there yet what are you waiting for\\n\\nIll totally recommend this place to anyonegive'"
       ]
      }
     ],
     "prompt_number": 12
    },
    {
     "cell_type": "code",
     "collapsed": false,
     "input": [
      "#String Translate Timing\n",
      "%timeit review_string.translate(None, string.punctuation)"
     ],
     "language": "python",
     "metadata": {},
     "outputs": [
      {
       "output_type": "stream",
       "stream": "stdout",
       "text": [
        "100000 loops, best of 3: 1.53 \u00b5s per loop\n"
       ]
      }
     ],
     "prompt_number": 13
    },
    {
     "cell_type": "code",
     "collapsed": false,
     "input": [
      "#String Punctuation and Word Splitting Output\n",
      "' '.join(word.strip(string.punctuation) for word in review_string.split())"
     ],
     "language": "python",
     "metadata": {},
     "outputs": [
      {
       "metadata": {},
       "output_type": "pyout",
       "prompt_number": 14,
       "text": [
        "\"I'd give Ardor a TWO THUMBS UP Love the food esp the Indian and total value for money The drinks are well made and the food is to die for I've been there about 5 times  mix of at night and for lunch During the night its like the new watering hole for the young crowd Love the energy it has The ambiance is great For those of you who have not been there yet what are you waiting for I'll totally recommend this place to anyone!'give\""
       ]
      }
     ],
     "prompt_number": 14
    },
    {
     "cell_type": "code",
     "collapsed": false,
     "input": [
      "#String Punctuation and Word Splitting Time\n",
      "%timeit ' '.join(word.strip(string.punctuation) for word in review_string.split())"
     ],
     "language": "python",
     "metadata": {},
     "outputs": [
      {
       "output_type": "stream",
       "stream": "stdout",
       "text": [
        "10000 loops, best of 3: 40.8 \u00b5s per loop\n"
       ]
      }
     ],
     "prompt_number": 15
    },
    {
     "cell_type": "code",
     "collapsed": false,
     "input": [
      "#Regular expression output\n",
      "p = re.compile(r'(\\n)|(\\r)|(\\t)|(\\')|(\\u00A9)|([!\"#$%&()*+,-./:;<=>?@\\[\\\\\\]^_`{|}~])', re.IGNORECASE)\n",
      "re.sub(p,'',review_string)"
     ],
     "language": "python",
     "metadata": {},
     "outputs": [
      {
       "metadata": {},
       "output_type": "pyout",
       "prompt_number": 16,
       "text": [
        "'Id give Ardor a TWO THUMBS UPLove the food esp the Indian and total value for moneyThe drinks are well made and the food is to die for Ive been there about 5 times  mix of at night and for lunchDuring the night its like the new watering hole for the young crowd Love the energy it has The ambiance is greatFor those of you who have not been there yet what are you waiting forIll totally recommend this place to anyonegive'"
       ]
      }
     ],
     "prompt_number": 16
    },
    {
     "cell_type": "code",
     "collapsed": false,
     "input": [
      "#Regular expression timing\n",
      "p = re.compile(r'(\\n)|(\\r)|(\\t)|(\\')|(\\u00A9)|([!\"#$%&()*+,-./:;<=>?@\\[\\\\\\]^_`{|}~])', re.IGNORECASE)\n",
      "%timeit re.sub(p,'',review_string)"
     ],
     "language": "python",
     "metadata": {},
     "outputs": [
      {
       "output_type": "stream",
       "stream": "stdout",
       "text": [
        "10000 loops, best of 3: 118 \u00b5s per loop\n"
       ]
      }
     ],
     "prompt_number": 17
    }
   ],
   "metadata": {}
  }
 ]
}
